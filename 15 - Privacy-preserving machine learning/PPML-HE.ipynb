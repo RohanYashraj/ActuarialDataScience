{
 "cells": [
  {
   "cell_type": "markdown",
   "metadata": {
    "id": "rNZMojgfjlFw"
   },
   "source": [
    "# Privacy preserving machine learning\n",
    "\n",
    "*Authors: Daniel Meier (Swiss Re Ltd), Michael Mayer (La Mobilière), members of the Data Science Working Group of the Swiss Association of Actuaries, see https://actuarialdatascience.org*, and Juan-Ramón Troncoso-Pastoriza (Tune Insight)\n",
    "\n",
    "This notebook introduces privacy preserving machine learning methods using synthetic health datasets with risk factors like BMI, blood pressure, age, etc. to predict various health outcomes of individuals over time. The notebook consists of **5 parts**:\n",
    "\n",
    "1.   Creation of synthetic health datasets\n",
    "2.   Traditional models: logistic regression/GLM, and Cox regression\n",
    "3.   Shallow and deep neural networks\n",
    "4.   Model explainability and risk factor importance\n",
    "5.   Homomorphic encryption\n",
    "\n",
    "## Key takeaways\n",
    "\n",
    "*   Currently (in 2023), there is still limited availability of publicly accessible and sufficiently large and dense health datasets, we therefore work on synthetic datasets\n",
    "*   Traditional models might be the better choice - depending on the (size of the) dataset\n",
    "*   Neural networks as an extension of GLMs\n",
    "*   Understanding some basics of epidemiology: hazard rates/ratios, odds ratios, relative risk\n",
    "*   How to become comfortable with more complex models: partical dependence plots, individual conditional expectations, permutation importance\n",
    "*   Introduction into privacy preserving methods, homomorphic encryption\n",
    "*   Last but not least: insights into general health aspects\n"
   ]
  },
  {
   "cell_type": "markdown",
   "metadata": {
    "id": "OWwxLPo9_mBI"
   },
   "source": [
    "# Part 5: Homomorphic encryption\n",
    "In this last part we showcase the concept of homomorphic encryption by first introducing several helper functions to\n",
    "\n",
    "* encrypt and decrypt with asymmetric RSA,\n",
    "* factor larger numbers with the quadratic sieve to break RSA (for small keys),\n",
    "* encrypt and decrypt with asymmetric ElGamal,\n",
    "* send/receive messages with asymmetric and symmetric encryption.\n",
    "\n"
   ]
  },
  {
   "cell_type": "code",
   "execution_count": null,
   "metadata": {
    "id": "mwlIJSgk_oZX"
   },
   "outputs": [],
   "source": [
    "import random, array, time\n",
    "import numpy as np\n",
    "from math import exp, log, sqrt\n",
    "\n",
    "def gcd_ext(a, b):\n",
    "    # returns gcd, x, y, such that gcd = a*x + b*y\n",
    "    if a == 0: return b, 0, 1\n",
    "    d, x, y = gcd_ext(b % a, a)\n",
    "    return d, y - (b // a) * x, x\n",
    "\n",
    "def jacobi(a, n):\n",
    "    # Jacobi symbol (generalized Legendre symbol) for positive, odd n\n",
    "    a = a % n\n",
    "    t = 1\n",
    "    while a != 0:\n",
    "        while a % 2 == 0:\n",
    "            a = a // 2\n",
    "            r = n % 8\n",
    "            if r == 3 or r == 5: t = -t\n",
    "        a, n = n, a\n",
    "        if a % 4 == 3 and n % 4 == 3: t = -t\n",
    "        a = a % n\n",
    "    if n == 1: return t\n",
    "    else: return 0\n",
    "\n",
    "def is_probable_prime(n, k = 20):\n",
    "    # Solovay-Strassen probabilistic prime number test\n",
    "    if n == 2: return True\n",
    "    if n % 2 == 0 or n == 1: return False\n",
    "    for j in range(k):\n",
    "        r = random.randint(2, n-1)\n",
    "        x = jacobi(r, n) % n\n",
    "        if x == 0 or pow(r, (n-1)//2, n) != x:\n",
    "            return False\n",
    "    return True\n",
    "\n",
    "def next_probable_prime(n):\n",
    "    if n % 2 == 0: n += 1\n",
    "    while not is_probable_prime(n): n += 2\n",
    "    return n\n",
    "\n",
    "def text_to_int(text):\n",
    "    return int.from_bytes(text.encode(), \"little\")\n",
    "\n",
    "def int_to_text(n):\n",
    "    try:\n",
    "      out = n.to_bytes(int(log(n)/log(256)+1), \"little\").decode()\n",
    "    except Exception:\n",
    "      out = \"Invalid integer\"\n",
    "    return out\n",
    "\n",
    "def rsa_attack(n, e):\n",
    "    # retrieve private key from public key by factoring n\n",
    "    factors = MPQS(n).factor()\n",
    "    p = factors[0]\n",
    "    q = factors[1]\n",
    "    d = gcd_ext(e, (p-1)*(q-1))[1] % ((p-1)*(q-1))\n",
    "    return n, d"
   ]
  },
  {
   "cell_type": "markdown",
   "metadata": {
    "id": "ONFL4sPBN6Cb"
   },
   "source": [
    "The next code block is an implementation of the quadratic sieve to factor integers, see, e.g., https://www.ams.org/notices/199612/pomerance.pdf"
   ]
  },
  {
   "cell_type": "code",
   "execution_count": null,
   "metadata": {
    "id": "1lmIeSZA_-o2"
   },
   "outputs": [],
   "source": [
    "class MPQS:\n",
    "  def __init__(self, n, max_trial_division=1e6, sieve_window_size=100000, multiplier=10):\n",
    "    # n, number to be factored\n",
    "    # max_trial_division, fist perform a trial division up to primes of size max_trial_division\n",
    "    # sieve_window_size and m are tuning parameters that will impact computation times\n",
    "    if not n>1 and n%1 == 1: raise ValueError(\"Invalid n\")\n",
    "    print(\"Trying to factor {}-digit number {}\".format(len(str(n)), n))\n",
    "    self.sieve_window_size = sieve_window_size\n",
    "    self.max_trial_division = int(max_trial_division)\n",
    "    self.multiplier = multiplier\n",
    "    _, self.n, self.power = self.is_power(n, max_trial_division)\n",
    "    self.factors, self.n = self.trial_division(self.n, self.max_trial_division)\n",
    "    self.sqrt_n = sqrt(self.n)\n",
    "    self.b = int(exp(sqrt(log(self.n)*log(log(self.n)+1e-16))/2))\n",
    "    self.factor_base = [-1, 2] + [p for p in self.first_primes(self.b)[1:] if jacobi(self.n, p) == 1]\n",
    "    self.sqrt_p, self.log_p = self.get_roots_logs(self.factor_base, self.n)\n",
    "    self.exponent_vectors = np.zeros((len(self.factor_base), len(self.factor_base)), dtype=bool)\n",
    "    self.X_list = [0] * len(self.factor_base)\n",
    "    self.Y_list = [0] * len(self.factor_base)\n",
    "    self.row = [-1] * len(self.factor_base)\n",
    "    self.numbers_found = 0\n",
    "    self.M = self.multiplier * len(self.factor_base)\n",
    "    self.A = 0\n",
    "    self.B = 0\n",
    "    self.C = 0\n",
    "    self.D = int(sqrt(sqrt(2*self.n)/self.M))\n",
    "    self.D_inv = 0\n",
    "    self.root1 = [0] * len(self.factor_base)\n",
    "    self.root2 = [0] * len(self.factor_base)\n",
    "\n",
    "  def factor(self):\n",
    "    print(\"MPQS trying to factor {}-digit number {}\".format(len(str(self.n)), self.n))\n",
    "    if is_probable_prime(self.n): return np.repeat(self.factors + [self.n], self.power).tolist()\n",
    "    if self.n == 1: return np.repeat(self.factors, self.power).tolist()\n",
    "    factors = self.factor_into_two()\n",
    "    out = []\n",
    "    for p in factors:\n",
    "      if is_probable_prime(p): out.append(p)\n",
    "      else: out += MPQS(p, self.max_trial_division, self.sieve_window_size, self.multiplier).factor()\n",
    "    print(\"\\n{}\".format(np.repeat(self.factors + out, self.power).tolist()))\n",
    "    return np.repeat(self.factors + out, self.power).tolist()\n",
    "\n",
    "  def trial_division(self, n, max_trial_division):\n",
    "    out = []\n",
    "    for p in self.first_primes(max_trial_division):\n",
    "      while n % p == 0:\n",
    "        n //= p\n",
    "        out.append(p)\n",
    "    return out, n\n",
    "\n",
    "  def is_power(self, n, min_base):\n",
    "    for r in range(2, int(log(n)/log(min_base) + 2)):\n",
    "      p = self.int_root(n, r)\n",
    "      if p != -1: return True, p, r\n",
    "    return False, n, 1\n",
    "\n",
    "  def int_root(_, n, r):\n",
    "    low = int(n**(1/(r+0.1)))\n",
    "    high = int(n**(1/(r-0.1)))\n",
    "    while high - low > 2:\n",
    "      center = high//2 + low//2\n",
    "      if center**r > n: high = center\n",
    "      else: low = center\n",
    "    if high**r == n: return high\n",
    "    if (high-1)**r == n: return high - 1\n",
    "    if low**r == n: return low\n",
    "    return -1\n",
    "\n",
    "  def first_primes(_, n):\n",
    "    is_prime = np.ones(n+1, dtype=bool)\n",
    "    out = []\n",
    "    i = 2\n",
    "    while 1:\n",
    "      while i <= n and not is_prime[i]: i = i + 1\n",
    "      if i == n+1: return out\n",
    "      out.append(i)\n",
    "      idx = np.arange(2*i, n + 1, i)\n",
    "      is_prime[idx] = False\n",
    "      i += 1\n",
    "\n",
    "  def get_roots_logs(self, factor_base, n):\n",
    "    sqrt_p = [0] * len(factor_base)\n",
    "    log_p = [0] * len(factor_base)\n",
    "    for i in range(1, len(factor_base)):\n",
    "      sqrt_p[i] = self.sqrt_mod_p(n, factor_base[i])\n",
    "      log_p[i] = log(factor_base[i])\n",
    "    return sqrt_p, log_p\n",
    "\n",
    "  def sqrt_mod_p(self, n, p):\n",
    "    if p == 2: return n % 2\n",
    "    if p % 4 == 3: return pow(n, (p + 1) // 4, p)\n",
    "    if p % 8 == 5:\n",
    "      out = pow(n, (p + 3) // 8, p)\n",
    "      if pow(out, 2, p) != n % p: out = out * pow(2, (p-1)//4, p) % p\n",
    "      return out % p\n",
    "    s = 0\n",
    "    t = p - 1\n",
    "    while (t % 2 == 0):\n",
    "      t = t // 2\n",
    "      s += 1\n",
    "    d = 2\n",
    "    while jacobi(d, p) == 1: d += 1\n",
    "    nt = pow(n, t, p)\n",
    "    dt = pow(d, t, p)\n",
    "    m = 0\n",
    "    for i in range(0, s-1):\n",
    "      T = pow(dt, m, p) * nt\n",
    "      T = pow(T, pow(2, s - 2 - i), p) + 1\n",
    "      if T == p: m = m + pow(2, i+1)\n",
    "    return (pow(n, (t+1)//2, p)*pow(dt, m//2, p)) % p\n",
    "\n",
    "  def set_next_polynomial(self):\n",
    "    self.D = self.D + (3 - self.D % 4) + 4\n",
    "    while not is_probable_prime(self.D) or pow(self.n, (self.D-1)//2, self.D) != 1: self.D += 4\n",
    "    self.A = pow(self.D, 2, self.n)\n",
    "    H1 = pow(self.n, (self.D + 1)//4, self.D)\n",
    "    t = gcd_ext(2*H1, self.D)[1] # inverse of 2*H1 mod D\n",
    "    H2 = t*((self.n-H1*H1)//self.D) % self.D\n",
    "    self.B = (H1 + H2*self.D) % self.A\n",
    "    self.C = (self.B*self.B - self.n)//self.A\n",
    "    self.D_inv = gcd_ext(self.D, self.n)[1] % self.n\n",
    "    self.root1 = [0] * (len(self.factor_base))\n",
    "    self.root2 = [0] * (len(self.factor_base))\n",
    "    for i in range(1, len(self.factor_base)):\n",
    "      B_p = self.B % self.factor_base[i]\n",
    "      A_inv_p = gcd_ext(self.A, self.factor_base[i])[1] % self.factor_base[i]\n",
    "      self.root1[i] = ((self.sqrt_p[i] - B_p) * A_inv_p ) % self.factor_base[i]\n",
    "      self.root2[i] = ((-self.sqrt_p[i] - B_p) * A_inv_p ) % self.factor_base[i]\n",
    "\n",
    "  def factor_into_two(self):\n",
    "    while 1:\n",
    "      self.set_next_polynomial()\n",
    "      factors = self.sieve()\n",
    "      if len(factors) > 1:\n",
    "        return factors\n",
    "\n",
    "  def sieve(self):\n",
    "    for window in range(-self.M//self.sieve_window_size, self.M//self.sieve_window_size):\n",
    "        sieve = np.zeros(self.sieve_window_size)\n",
    "        sieve_start = window * self.sieve_window_size\n",
    "        sieve_end = (window+1) * self.sieve_window_size - 0.5\n",
    "        qx_start = (self.A*sieve_start+2*self.B)*sieve_start+self.C\n",
    "        qx_end = (self.A*sieve_end+2*self.B)*sieve_end+self.C\n",
    "        threshold = log(min(abs(qx_start), abs(qx_end))) - 1\n",
    "        for f in range(1, len(self.factor_base)):\n",
    "          r = sieve_start % self.factor_base[f]\n",
    "          r1 = (self.root1[f] - r) % self.factor_base[f]\n",
    "          r2 = (self.root2[f] - r) % self.factor_base[f]\n",
    "          idx = np.concatenate((np.arange(r1, self.sieve_window_size, self.factor_base[f]), np.arange(r2, self.sieve_window_size, self.factor_base[f])))\n",
    "          sieve[idx] += self.log_p[f]\n",
    "        for s in np.where(sieve > threshold)[0]:\n",
    "            exponent_vector = np.zeros(len(self.factor_base), dtype=int)\n",
    "            x = sieve_start + int(s)\n",
    "            X = self.A*x + self.B\n",
    "            qx = (X + self.B)*x + self.C\n",
    "            X = X*self.D_inv % self.n\n",
    "            if qx < 0:\n",
    "              qx = self.n - qx\n",
    "              exponent_vector[0] = 1\n",
    "            for f in range(1, len(self.factor_base)):\n",
    "              r = x % self.factor_base[f]\n",
    "              if (r != self.root1[f] and r != self.root2[f]): continue\n",
    "              while qx >= self.factor_base[f] and qx % self.factor_base[f] == 0:\n",
    "                qx = qx // self.factor_base[f]\n",
    "                exponent_vector[f] += 1\n",
    "            if qx == 1: # b-smooth Q(x) has been found\n",
    "              Y = 1\n",
    "              idx = np.where(exponent_vector[1:]>=2)[0]+1\n",
    "              for f in idx:\n",
    "                Y = (Y * pow(self.factor_base[f], int(exponent_vector[f]) // 2)) % self.n\n",
    "              exponent_vector[idx] %= 2\n",
    "              g = gcd_ext(X + Y, self.n)[0] % self.n\n",
    "              if g > 1 and g < self.n-1: return [g, self.n//g]\n",
    "              exponent_vector_root = np.zeros(len(self.factor_base), dtype=int)\n",
    "              for f in np.arange(len(self.factor_base)):\n",
    "                if exponent_vector[f] % 2 == 0: continue\n",
    "                if self.row[f] >= 0:\n",
    "                  X = X*self.X_list[self.row[f]] % self.n\n",
    "                  Y = Y*self.Y_list[self.row[f]] % self.n\n",
    "                  exponent_vector += self.exponent_vectors[self.row[f], :]\n",
    "                  idx = np.where(exponent_vector>=2)[0]\n",
    "                  exponent_vector_root[idx] += exponent_vector[idx] // 2\n",
    "                  exponent_vector[idx] %= 2\n",
    "                  if not np.any(exponent_vector[f:]):\n",
    "                    for i in np.where(exponent_vector_root[1:]>0)[0]+1:\n",
    "                      Y *= pow(self.factor_base[i], int(exponent_vector_root[i])) % self.n\n",
    "                    exponent_vector_root = np.zeros(len(self.factor_base), dtype=int)\n",
    "                    g = gcd_ext(X + Y, self.n)[0] % self.n\n",
    "                    if g > 1 and g < self.n-1: return [g, self.n//g]\n",
    "                else:\n",
    "                  for i in np.where(exponent_vector_root[1:]>0)[0]+1:\n",
    "                      Y *= pow(self.factor_base[i], int(exponent_vector_root[i])) % self.n\n",
    "                  self.row[f] = self.numbers_found\n",
    "                  self.X_list[self.numbers_found] = X\n",
    "                  self.Y_list[self.numbers_found] = Y\n",
    "                  self.exponent_vectors[self.numbers_found, :] = exponent_vector % 2 == 1\n",
    "                  self.numbers_found += 1\n",
    "                  print(\"\\rNumber of b-smooth numbers found ({} needed at most): {}\".format(len(self.factor_base), self.numbers_found), end=\"\")\n",
    "                  break\n",
    "    return [self.n]"
   ]
  },
  {
   "cell_type": "markdown",
   "metadata": {
    "id": "rE_Uo5H5OMlU"
   },
   "source": [
    "The following classes implement asymmetric encryption with RSA, ElGamal, and symmetric encryption based on BBS (Blum-Blum-Shub, see https://shub.ccny.cuny.edu/articles/1986-A_simple_unpredictable_pseudo-random_number_generator.pdf)."
   ]
  },
  {
   "cell_type": "code",
   "execution_count": null,
   "metadata": {
    "id": "aNig4cEgAAb6"
   },
   "outputs": [],
   "source": [
    "class RSA:\n",
    "  def __init__(self, p=0, q=0, e=0):\n",
    "    size = 100000000000000000\n",
    "    if p==0: p = next_probable_prime(random.randint(1*size, 2*size))\n",
    "    if q==0: q = next_probable_prime(random.randint(3*size, 4*size))\n",
    "    if e==0:\n",
    "        self.e = next_probable_prime(random.randint(0, (p-1)*(q-1)))\n",
    "        while gcd_ext(self.e, (p-1)*(q-1))[0] != 1: self.e = (self.e + 1) % ((p-1)*(q-1))\n",
    "    else: self.e = e\n",
    "    self.n = p*q\n",
    "    if gcd_ext(self.e, (p-1)*(q-1))[0] != 1: raise ValueError(\"e and (p-1)*(q-1) need to be coprime\")\n",
    "    self._d = gcd_ext(self.e, (p-1)*(q-1))[1] % ((p-1)*(q-1))\n",
    "\n",
    "  def get_public_key(self):\n",
    "    return self.n, self.e\n",
    "\n",
    "  def get_private_key(self):\n",
    "    return self.n, self._d\n",
    "\n",
    "  def encrypt(self, m, n=0, e=0):\n",
    "    if n==0: n = self.n\n",
    "    if e==0: e = self.e\n",
    "    if m>n: raise ValueError(\"m too large, n too small\")\n",
    "    return pow(m, e, n)\n",
    "\n",
    "  def decrypt(self, c, n=0, d=0):\n",
    "    if n==0: n = self.n\n",
    "    if d==0: d = self._d\n",
    "    return pow(c, d, n)\n",
    "\n",
    "class ElGamal:\n",
    "  def __init__(self, p=0, g=0):\n",
    "    size = 100000000000000000\n",
    "    if p==0:\n",
    "      self.p = 1\n",
    "      while not is_probable_prime(self.p):\n",
    "        p1, p2 = next_probable_prime(random.randint(1*size, 2*size)), next_probable_prime(random.randint(3*size, 4*size))\n",
    "        self.p = 2*p1*p2 + 1\n",
    "      self.g = random.randint(2, self.p-2)\n",
    "      while pow(self.g, 2*p1, self.p) == 1 or pow(self.g, 2*p2, self.p) == 1 or pow(self.g, p1*p2, self.p) == 1:\n",
    "        self.g = random.randint(2, self.p-2)\n",
    "    else:\n",
    "      self.p = p\n",
    "      self.g = g\n",
    "    self._x = random.randint(1, self.p-2)\n",
    "    self.h = pow(self.g, self._x, self.p)\n",
    "    self.nonce_list = []\n",
    "\n",
    "  def get_public_key(self):\n",
    "    return self.p, self.g, self.h\n",
    "\n",
    "  def get_private_key(self):\n",
    "    return self._x\n",
    "\n",
    "  def encrypt(self, m, p=0, g=0, h=0):\n",
    "    if p==0: p = self.p\n",
    "    if g==0: g = self.g\n",
    "    if h==0: h = self.h\n",
    "    nonce = random.randint(1, p-2)\n",
    "    while nonce in self.nonce_list:\n",
    "      nonce = random.randint(1, p-2)\n",
    "    self.nonce_list.append(nonce)\n",
    "    return m*pow(h, nonce, p) % p, pow(g, nonce, p)\n",
    "\n",
    "  def decrypt(self, c, d):\n",
    "    return c*gcd_ext(pow(d, self._x, self.p), self.p)[1] % self.p\n",
    "\n",
    "class BBS:\n",
    "  def __init__(self, n=0, seed=0):\n",
    "    # create a pseudo-random sequence of period length 4*p1*p2*q1*q2, Blum-Blum-Shub\n",
    "    size = 10000000\n",
    "    self.skip = 1000\n",
    "    if n==0:\n",
    "        p, q = 0, 0\n",
    "        while not(is_probable_prime(p) and is_probable_prime(q)):\n",
    "            p1, p2 = random.randint(1*size, 2*size), random.randint(3*size, 4*size)\n",
    "            q1, q2 = random.randint(5*size, 6*size), random.randint(7*size, 8*size)\n",
    "            p, q = 2*p1*p2+1, 2*q1*q2+1\n",
    "            n = p*q\n",
    "    self.n = n\n",
    "    self.number_bytes = int(log(self.n)/log(256)+1)\n",
    "    self.nonce_list = []\n",
    "    if seed == 0: self._seed = random.randint(2,self.n)\n",
    "    else: self._seed = seed\n",
    "\n",
    "  def next(self, length, nonce):\n",
    "    current = (nonce + self._seed) % self.n\n",
    "    out = bytearray(length)\n",
    "    for i in range(self.skip):\n",
    "        current = pow(current, 2, self.n)\n",
    "    for i in range(length * 8):\n",
    "        current = pow(current, 2, self.n)\n",
    "        out[i//8] += (sum(current.to_bytes(self.number_bytes, \"little\")) % 2) << (i%8)\n",
    "    return out\n",
    "\n",
    "  def encrypt(self, message, nonce):\n",
    "    if nonce in self.nonce_list: raise ValueError(\"nonce was already used\")\n",
    "    self.nonce_list.append(nonce)\n",
    "    bytes = message.encode()\n",
    "    return bytearray([x^y for x, y in zip(bytes, self.next(len(bytes), nonce))])\n",
    "\n",
    "  def decrypt(self, encrypted_message, nonce):\n",
    "    return bytearray([x^y for x, y in zip(encrypted_message, self.next(len(encrypted_message), nonce))]).decode()\n",
    "\n",
    "class Person:\n",
    "  def __init__(self, name, secret_message):\n",
    "    self.name = name\n",
    "    self._secret_message = secret_message\n",
    "    self._rsa = RSA()\n",
    "    self._bbs = BBS()\n",
    "    self._elg = ElGamal()\n",
    "\n",
    "  def get_rsa_public_key(self):\n",
    "    return self._rsa.get_public_key()\n",
    "\n",
    "  def get_rsa_encrypted_seed(self, person):\n",
    "    return self._bbs.n, RSA().encrypt(self._bbs._seed, *person.get_rsa_public_key())\n",
    "\n",
    "  def get_elg_public_key(self):\n",
    "    return self._elg.get_public_key()\n",
    "\n",
    "  def get_elg_encrypted_seed(self, person):\n",
    "    c, d = ElGamal().encrypt(self._bbs._seed, *person.get_elg_public_key())\n",
    "    return self._bbs.n, c, d\n",
    "\n",
    "  def send_encrypted_message(self):\n",
    "    nonce = int(time.time()*1000)\n",
    "    encrypted_message = self._bbs.encrypt(self._secret_message, nonce)\n",
    "    return encrypted_message, nonce\n",
    "\n",
    "  def receive_encrypted_message_rsa(self, person):\n",
    "    bbs_n, bbs_encrypted_seed = person.get_rsa_encrypted_seed(self)\n",
    "    bbs_seed = self._rsa.decrypt(bbs_encrypted_seed)\n",
    "    person_bbs = BBS(bbs_n, bbs_seed)\n",
    "    encrypted_message, nonce = person.send_encrypted_message()\n",
    "    message = person_bbs.decrypt(encrypted_message, nonce)\n",
    "    print('{} received the secret message \"{}\" from {}'.format(self.name, message, person.name))\n",
    "\n",
    "  def receive_encrypted_message_elg(self, person):\n",
    "    bbs_n, bbs_encrypted_seed, d = person.get_elg_encrypted_seed(self)\n",
    "    bbs_seed = self._elg.decrypt(bbs_encrypted_seed, d)\n",
    "    person_bbs = BBS(bbs_n, bbs_seed)\n",
    "    encrypted_message, nonce = person.send_encrypted_message()\n",
    "    message = person_bbs.decrypt(encrypted_message, nonce)\n",
    "    print('{} received the secret message \"{}\" from {}'.format(self.name, message, person.name))"
   ]
  },
  {
   "cell_type": "markdown",
   "metadata": {
    "id": "nqxK9zmHqAuu"
   },
   "source": [
    "This section demonstrates the homomorphic capacites of RSA as a didactic exercise. As mentioned in the companion paper, RSA does not have semantic security, so it cannot be used securely for homomorphic processing in practical applications."
   ]
  },
  {
   "cell_type": "code",
   "execution_count": null,
   "metadata": {
    "colab": {
     "base_uri": "https://localhost:8080/"
    },
    "id": "rS_Rj6JXAEDE",
    "outputId": "d8a9de13-a3ab-4efb-d57c-0362435550aa"
   },
   "outputs": [
    {
     "name": "stdout",
     "output_type": "stream",
     "text": [
      "Decrypting message with private key: Data Science\n",
      "\n",
      "Attacking RSA by factoring public key via quadratic sieve:\n",
      "Trying to factor 36-digit number 110000000000000009600000000000000189\n",
      "MPQS trying to factor 36-digit number 110000000000000009600000000000000189\n",
      "Number of b-smooth numbers found (749 needed at most): 707\n",
      "[1100000000000000063, 100000000000000003]\n",
      "Data Science\n",
      "\n",
      "Homomorphic RSA encryption example: multiplication <-> multiplication\n",
      "82220119621987860348718849059267407\n",
      "82220119621987860348718849059267407\n"
     ]
    }
   ],
   "source": [
    "rsa = RSA(next_probable_prime(100000000000000000), next_probable_prime(1100000000000000000), 17)\n",
    "cipher = rsa.encrypt(text_to_int(\"Data Science\"))\n",
    "print(\"Decrypting message with private key: {}\".format(int_to_text(rsa.decrypt(cipher))))\n",
    "\n",
    "print(\"\\nAttacking RSA by factoring public key via quadratic sieve:\")\n",
    "n, e = rsa.get_public_key()\n",
    "factors = MPQS(n).factor()\n",
    "p, q = factors[0], factors[1]\n",
    "d = gcd_ext(e, (p-1)*(q-1))[1] % ((p-1)*(q-1))\n",
    "print(int_to_text(RSA().decrypt(cipher, n, d)))\n",
    "\n",
    "print(\"\\nHomomorphic RSA encryption example: multiplication <-> multiplication\")\n",
    "a = random.randint(0,1000000)\n",
    "b = random.randint(0,1000000)\n",
    "print(rsa.encrypt(a % rsa.n)*rsa.encrypt(b % rsa.n) % rsa.n)\n",
    "print(rsa.encrypt(a*b % rsa.n) % rsa.n)"
   ]
  },
  {
   "cell_type": "code",
   "execution_count": null,
   "metadata": {
    "colab": {
     "base_uri": "https://localhost:8080/"
    },
    "id": "RLD1XDnUAGGc",
    "outputId": "03cb13ac-7166-4d37-8094-030e69a62760"
   },
   "outputs": [
    {
     "name": "stdout",
     "output_type": "stream",
     "text": [
      "Bob received the secret message \"Alice's secret message\" from Alice\n",
      "Bob received the secret message \"Alice's secret message\" from Alice\n"
     ]
    }
   ],
   "source": [
    "alice = Person(\"Alice\", \"Alice's secret message\")\n",
    "bob = Person(\"Bob\", \"Bob's secret message\")\n",
    "bob.receive_encrypted_message_rsa(alice)\n",
    "bob.receive_encrypted_message_elg(alice)"
   ]
  },
  {
   "cell_type": "markdown",
   "metadata": {
    "id": "NdVSx2dlqX-9"
   },
   "source": [
    "## Example of basic encrypted processing using Tune Insight's client-side `cryptolib/hefloat`\n",
    "\n",
    "This notebook exemplifies a fully encrypted workflow where the client has a database of individual data records and wants to apply a mortality model (logistic regression) to predict the mortality risk for the individuals represented in each data record.\n",
    "For this, we use a light version of Tune Insight's public `cryptolib/hefloat` library, which provides a simplified interface to abstract cryptographic concepts and enable quick and simple manipulation of encrypted records. These are the followed steps:\n",
    "- Parameterization of the circuit and cryptosystem instantiation\n",
    "- Key generation\n",
    "- Polynomial approximation of the model activation functions\n",
    "- Batch (packed) encryption of all input records and model coefficients\n",
    "- Homomorphic evaluation of the model prediction under encryption\n",
    "- Decryption of the prediction results\n",
    "- Accuracy comparison with clear-text non-encrypted equivalent processing\n",
    "\n",
    "If you havea any questions or find any issues with the library, do not hesitate to contact us as [contact@tuneinsight.com](mailto:contact@tuneinsight.com)."
   ]
  },
  {
   "cell_type": "markdown",
   "metadata": {
    "id": "hFjZ8st1qsS3"
   },
   "source": [
    "### Parameterization and cryptosystem instantiation\n",
    "The `hefloat` library works with approximate arithmetic and uses a cryptosystem adapted to machine learning operations (CKKS).\n",
    "\n",
    "First, we select the required precision for the homomorphic computations (equivalent to the input scale $\\Delta$) and the depth of the circuit (maximum number of consecutive products before the results are decrypted). The library automatically selects secure parameters as a function of the required circuit depth and precision."
   ]
  },
  {
   "cell_type": "code",
   "execution_count": null,
   "metadata": {
    "id": "Tz8x6CiLANjC"
   },
   "outputs": [],
   "source": [
    "from tuneinsight.cryptolib.hefloat import hefloat\n",
    "\n",
    "# Parameterization: scale/precision and circuit depth\n",
    "log_scale = 45                                  # Fixed-point arithmetic floating point scaling factor in bits (log2(Delta))\n",
    "levels = 7                                      # Circuit depth\n",
    "log_qi = [log_scale+5] + levels*[log_scale]     # 5 additional bits for the lowest level, to account for plaintext growth\n",
    "log_pi = [log_scale+5]                          # Auxiliary module used for relinearization (usually, at least of the same size as the lowest level q0)\n",
    "\n",
    "\n",
    "# In order to generate an instance of the cryptosystem, the RLWE ring degree is automatically chosen to ensure at least 128-bit of security\n",
    "# A context stores the scheme cryptographic parameters and a key generator\n",
    "context = hefloat.new_context(log_qi = log_qi, log_default_scale= log_scale, log_pi = log_pi)\n",
    "\n",
    "#Print some information about the cryptographic parameters\n",
    "print(f'Log2 N: {context.parameters.log_n()}')\n",
    "print(f'Log2 Moduli Chain: Q{log_qi} + P{log_pi}')\n",
    "print(f'Log2 QP: {context.parameters.log_q() + context.parameters.log_p()}')\n",
    "print(f'Log2 Slots: {context.parameters.log_slots()}')\n",
    "print(f'Available Depth: {levels}')"
   ]
  },
  {
   "cell_type": "markdown",
   "metadata": {
    "id": "nW_-aXvRrBXG"
   },
   "source": [
    "### Key Generation\n",
    "The owner of the data generates a public-private key pair.\n",
    "\n",
    "First, the secret key must remain at the data owner, as it is the key that can decrypt any ciphertext.\n",
    "\n",
    "The evaluator object holds the public keys (inlcuding the relinearization key), in order to enable the encrypted execution of homomorphic circuits, but the evaluator alone cannot perform decryption operations, as the secret key is not stored in it.\n",
    "\n",
    "Therefore, the client can send the evaluator and its public keys to the server where the encrypted computation must be carried out, with the guarantee that the server will not be able to access any clear-text data."
   ]
  },
  {
   "cell_type": "code",
   "execution_count": null,
   "metadata": {
    "id": "-sXONPBPrH9_"
   },
   "outputs": [],
   "source": [
    "# Generate a fresh secret key\n",
    "sk = context.new_secret_key()\n",
    "\n",
    "# Instantiate an evaluator with a relinearization key\n",
    "# The relinearization key is a public-evaluation key required to ensure ciphertext x ciphertext compactness\n",
    "# The resulting evaluator object contains only public information and can be freely shared\n",
    "evaluator = context.new_evaluator(context.new_relinearization_key(sk))"
   ]
  },
  {
   "cell_type": "markdown",
   "metadata": {
    "id": "mthGr-qFrL1E"
   },
   "source": [
    "## Polynomial approximation of activation functions\n",
    "\n",
    "The cryptosystem naturally supports homomorphic polynomial operations, but non-polynomial operations have to be approximated.\n",
    "\n",
    "A Chebyshev's polynomial approximation is numerically stable and enables a low approximation error (close to the minimax approximation polynomial) across the defined input interval. In this case (logistic regression), the to-be-approximated function is a Sigmoid. The approximation interval is chosen as a function of the domain spanned by the inputs to the Sigmoid function (after the scalar product between the input vector and the regression coefficient vector). The degree of the approximation polynomial ($2^8-1=63$ in our case) can be chosen to fit the available depth with which the cryptosystem has been parameterized.\n",
    "\n",
    "### Synthetic data generation\n",
    "For this example, we generate a table of uniformly distributed random data that represents $l=2^{13}=8192$ records with $k=200$ features. The model coefficients (regression coefficients $\\beta_i$, including the bias or intercept coefficient $\\beta_0$) are also randomly chosen. In a real scenario, these coefficients will be obtained from the model provider or from a prior training process. The latter can be run on local data or on third party or distributed data, in which case it can also leverage encrypted computation (see the companion notebook using the full Tune Insight SDK for an example of encrypted distributed training with dataset $D_2$)."
   ]
  },
  {
   "cell_type": "code",
   "execution_count": null,
   "metadata": {
    "id": "3GrnFGIyrTQR"
   },
   "outputs": [],
   "source": [
    "import numpy.polynomial.chebyshev as chebyshev\n",
    "import numpy as np\n",
    "\n",
    "# Expected interval of the encrypted values after the scalar product\n",
    "a = -12\n",
    "b = 12\n",
    "\n",
    "# Interpolates the Sigmoid in the interval [-12, 12] and returns the coefficients\n",
    "# for the Chebyshev approximation polynomial in the Chebyshev basis\n",
    "coeffs = chebyshev.chebinterpolate(lambda x: 1/(1+np.exp(-((b-a)/2 * x + (b+a)/2))), 63)\n",
    "\n",
    "\n",
    "## Synthetic data generation:\n",
    "# Number of samples to process in parallel (available plaintext slots that one encryption can hold)\n",
    "batch_size = context.slots()\n",
    "\n",
    "# Number of features (k=200)\n",
    "features = 200\n",
    "\n",
    "# Generate random data in [-0.5, 0.5]. This is the matrix A'\n",
    "data = np.random.rand(batch_size, features)-0.5\n",
    "\n",
    "# Generate random regression weights in [0, 1]. These represent beta_i, i=1,...,k\n",
    "weights = np.random.rand(features, 1)\n",
    "\n",
    "# Generate random bias (intercept coefficient) in [0, 1]. This represents beta_0\n",
    "bias = np.random.rand(1)"
   ]
  },
  {
   "cell_type": "markdown",
   "metadata": {
    "id": "YjvZxp_srW86"
   },
   "source": [
    "## Packed batched encryption of all input records and model coefficients\n",
    "\n",
    "In order to leverage the inherent parallelization of the cryptosystem (SIMD - Single Instruction Multiple Data) offered by the underlying polynomial/vector arithmetic, we encrypt input values packed into a polynomial/vector representation.\n",
    "\n",
    "In this case, we exemplify vertical packing (see Figure 11 of the tutorial paper), where each encryption contains a vector of values from multiple data records (one column of the data matrix $A'$). The input values are encoded in the slots (batched), in order to enable component-wise homomorphic operations."
   ]
  },
  {
   "cell_type": "code",
   "execution_count": null,
   "metadata": {
    "id": "LoU3ZMttrZSI"
   },
   "outputs": [],
   "source": [
    "# This optional parameter defines whether the input vectors will be encoded in the coefficients domain (if batched=False)\n",
    "# or in the slots domain (if batched=True). The latter is the default behavior, and it enables component-wise homomorphic operations\n",
    "# (additions and products)\n",
    "batched = True\n",
    "\n",
    "# The encrypt function can receive a two-dimensional matrix as input, in which case it encrypts each row of the input matrix in one ciphertext.\n",
    "# Therefore, we transpose the input A', in order to encrypt each column of A' in one ciphertext.\n",
    "# We need to explicitly make a copy to ensure a correct memory\n",
    "# alignment when passing C pointers of arrays to the Go wrapper.\n",
    "# The function returns an object that stores a vector of ciphertexts.\n",
    "encrypted_data = context.encrypt(data.transpose().copy(), sk, batched)\n",
    "\n",
    "# As for the regression coefficients, we encrypt each of the weights replicated in all slots of the corresponding ciphertext.\n",
    "# For this, we apply repetition coding (with tile) and pass the resulting matrix as input to the encrypt function, so that each row is encrypted in a separate ciphertext.\n",
    "# The result is an object that stores a vector of ciphertexts, each containing one regression coefficient replicated in all its slots.\n",
    "encrypted_weights = context.encrypt(np.tile(weights, (1, batch_size))* 2/(b-a), sk, batched)\n",
    "\n",
    "# The intercept coefficient or bias is also encrypted in its own ciphertext, with the same repetition coding as all the other regression coefficients\n",
    "encrypted_bias = context.encrypt(np.tile(bias, (1, batch_size))* 2/(b-a) + (-a-b)/(b-a), sk, batched)"
   ]
  },
  {
   "cell_type": "markdown",
   "metadata": {
    "id": "fktThAPqrcqF"
   },
   "source": [
    "## Homomorphic evaluation of the model prediction under encryption\n",
    "\n",
    "The prediction for the logistic regression involves, for each data record, the computation of\n",
    "\n",
    "$y_i=\\mu(\\beta_0+\\sum_{j=1}^k a_{i,j}\\beta_j)$.\n",
    "\n",
    "This can be broken down into:\n",
    "- A scalar product between the data vector and the regression coefficients vector\n",
    "- The addition of the intercept (bias) coefficient $\\beta_0$\n",
    "- The computation of the Sigmoid function on the result of the previous addition\n",
    "\n",
    "Thanks to the used vertical packing, these three subsequent operations can be executed in parallel over all the data records as if we were manipulating a single record (SIMD).\n",
    "\n",
    "### Scalar product and addition of bias\n",
    "\n",
    "The scalar product is evaluated using homomorphic products and additions. The `scalar_product` function takes two vectors of ciphertexts, and computes the scalar product between them, which is the homomorphic equivalent of performing $l=8192$ parallel scalar products between the $l$ $200$-length data vectors with the regression coefficient vector. The addition of the intercept is also a parallel operation"
   ]
  },
  {
   "cell_type": "code",
   "execution_count": null,
   "metadata": {
    "id": "cfHU1RUfrjk3"
   },
   "outputs": [],
   "source": [
    "# Encrypted evaluation of data @ weights computed as np.sum(data.transpose() * np.tile(bias, (1, batch_size)), axis=0)\n",
    "# This is faster, but equivalent, to doing evaluator.sum(evaluator.mul(encrypted_data, encrypted_weights), axis=0)\n",
    "encrypted_scalar_product = evaluator.scalar_product(encrypted_data, encrypted_weights)\n",
    "\n",
    "# Encrypted evaluation of data @ weights + bias\n",
    "encrypted_scalar_product_plus_bias = evaluator.add(encrypted_bias, encrypted_scalar_product)"
   ]
  },
  {
   "cell_type": "markdown",
   "metadata": {
    "id": "20ps9sdBrp4D"
   },
   "source": [
    "### Sigmoid evaluation\n",
    "\n",
    "The Sigmoid is evaluated through the approximation polynomial calculated above. The function `polynomial` takes the coefficientes of the Chebyshev decomposition of a given polynomial and evaluates this polynomial on the input encryption(s). This is also a SIMD operation, where the polynomial evaluation is homomorphically applied component-wise to the all the slots in the ciphertext, so the result is indeed the vector of predictions for all the input data records, one prediction in each of the slots of the resulting ciphertext."
   ]
  },
  {
   "cell_type": "code",
   "execution_count": null,
   "metadata": {
    "id": "PQY_SSjsrutr"
   },
   "outputs": [],
   "source": [
    "# Encrypted evaluation of sigmoid(data @ weights + bias)\n",
    "encrypted_prediction = evaluator.polynomial(encrypted_scalar_product_plus_bias, coeffs=coeffs, basis=\"Chebyshev\")"
   ]
  },
  {
   "cell_type": "markdown",
   "metadata": {
    "id": "oGpeUandrz4i"
   },
   "source": [
    "## Decryption of the prediction results\n",
    "\n",
    "The decryption requires the secret key to succeed, and produces as a result the vector of $l=8192$ predictions."
   ]
  },
  {
   "cell_type": "code",
   "execution_count": null,
   "metadata": {
    "id": "XST8QpEwr3ct"
   },
   "outputs": [],
   "source": [
    "# Decrypt the values\n",
    "prediction = context.decrypt(encrypted_prediction, sk)[:, :batch_size]"
   ]
  },
  {
   "cell_type": "markdown",
   "metadata": {
    "id": "2WoD7z31r7VC"
   },
   "source": [
    "## Accuracy comparison with clear-text non-encrypted equivalent processing\n",
    "\n",
    "In order to measure the precision preserved by the whole encrypted process, we compute the same logistic regression on the cleartext data, and compute the log of the average square error, which gives us the preserved bits of precision, which roughly equal 32 bits in this case. The scale of the inputs can be modified when parameterizing the cryptosystem in the first step, in order to adapt the precision to the required target."
   ]
  },
  {
   "cell_type": "code",
   "execution_count": null,
   "metadata": {
    "id": "uz7Rc0E8r_Q7"
   },
   "outputs": [],
   "source": [
    "from math import log\n",
    "# Finally, we evaluate the plaintext circuit\n",
    "clear_target = 1/(np.exp(-(data @ weights + bias))+1)\n",
    "\n",
    "# And compare with the decrypted result\n",
    "print(f'Obtained: {prediction}')\n",
    "print(f'Clear_tg: {clear_target.transpose()}')\n",
    "print(f'Precision as -log2(avg_l2(obtained-clear_tg))): {-log(np.sqrt(np.sum((prediction-clear_target.transpose())**2))/batch_size, 2)}')"
   ]
  },
  {
   "cell_type": "markdown",
   "metadata": {
    "id": "LvpxW-55vxAD"
   },
   "source": [
    "##Contact\n",
    "\n",
    "For more information on the encrypted statistical and machine learning capabilities of the full secure federated platform, do not hesitate to contact as at [contact@tuneinsight.com](mailto:contact@tuneinsight.com)."
   ]
  }
 ],
 "metadata": {
  "colab": {
   "provenance": []
  },
  "kernelspec": {
   "display_name": "Python 3 (ipykernel)",
   "language": "python",
   "name": "python3"
  },
  "language_info": {
   "codemirror_mode": {
    "name": "ipython",
    "version": 3
   },
   "file_extension": ".py",
   "mimetype": "text/x-python",
   "name": "python",
   "nbconvert_exporter": "python",
   "pygments_lexer": "ipython3",
   "version": "3.9.15"
  }
 },
 "nbformat": 4,
 "nbformat_minor": 1
}
